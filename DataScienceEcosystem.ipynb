{
  "cells": [
    {
      "cell_type": "markdown",
      "metadata": {
        "id": "caLn8D0Pz68i"
      },
      "source": [
        "<center>\n",
        "    <img src=\"https://cf-courses-data.s3.us.cloud-object-storage.appdomain.cloud/IBMDeveloperSkillsNetwork-DS0105EN-SkillsNetwork/labs/Module2/images/SN_web_lightmode.png\" width=\"300\" alt=\"cognitiveclass.ai logo\">\n",
        "</center>\n"
      ]
    },
    {
      "cell_type": "markdown",
      "metadata": {
        "id": "edKjPsTRz68m"
      },
      "source": [
        "# Data Science Tools and Ecosystem"
      ]
    },
    {
      "cell_type": "markdown",
      "metadata": {
        "id": "Hv-DcW9Rz68n"
      },
      "source": [
        "In this notebook, Data Science Tools and Ecosystem are summarized."
      ]
    },
    {
      "cell_type": "markdown",
      "source": [
        "__Objectives :__\n",
        "* Popular languages for Data Science\n",
        "* Commonly used libraries for Data Science\n",
        "* Data Science Tools\n",
        "* Aithmetic Expression\n",
        "* Minute to hour conversion"
      ],
      "metadata": {
        "id": "E649QVJgSvhV"
      }
    },
    {
      "cell_type": "markdown",
      "metadata": {
        "id": "FQ9yJscrz68n"
      },
      "source": [
        "Some of the popular languages that Data Scientists use are:\n",
        "1. Python\n",
        "2. R\n",
        "3. SQL\n",
        "4. Scala"
      ]
    },
    {
      "cell_type": "markdown",
      "metadata": {
        "id": "ks_gbGWmz68o"
      },
      "source": [
        "Some of the commonly used libraries used by Data Scientists include:\n",
        "1. TensorFlow\n",
        "2. sci-kit learn\n",
        "3. PyTorch"
      ]
    },
    {
      "cell_type": "markdown",
      "metadata": {
        "id": "Lep_C4R7z68o"
      },
      "source": [
        "| Data Science Tools |\n",
        "|--------------------|\n",
        "| MySqL |\n",
        "| PixieDust |\n",
        "| git |"
      ]
    },
    {
      "cell_type": "markdown",
      "source": [
        "### Below are a few examples of evaluating arithmetic expressions in Python:"
      ],
      "metadata": {
        "id": "ENbWeGe0PpFB"
      }
    },
    {
      "cell_type": "code",
      "source": [
        "(5*2)+1"
      ],
      "metadata": {
        "colab": {
          "base_uri": "https://localhost:8080/"
        },
        "id": "FDir22GKQfS_",
        "outputId": "a598dd9f-6dcd-4131-aa9d-a63f0b1fe4cd"
      },
      "execution_count": null,
      "outputs": [
        {
          "output_type": "execute_result",
          "data": {
            "text/plain": [
              "11"
            ]
          },
          "metadata": {},
          "execution_count": 3
        }
      ]
    },
    {
      "cell_type": "code",
      "source": [
        "# This is a simple arithmetic expression to multiply then add integers\n",
        "\n",
        "( 3 * 4) + 5"
      ],
      "metadata": {
        "colab": {
          "base_uri": "https://localhost:8080/"
        },
        "id": "yB-mGdZFRTey",
        "outputId": "27148595-f973-418d-c483-36383321660c"
      },
      "execution_count": null,
      "outputs": [
        {
          "output_type": "execute_result",
          "data": {
            "text/plain": [
              "17"
            ]
          },
          "metadata": {},
          "execution_count": 4
        }
      ]
    },
    {
      "cell_type": "code",
      "source": [
        "# This will convert 200 minutes to hours by dividing it by 60\n",
        "\n",
        "200 / 60"
      ],
      "metadata": {
        "colab": {
          "base_uri": "https://localhost:8080/"
        },
        "id": "r8O3yfKgRxg0",
        "outputId": "bb6940d4-2467-4bd3-c6a6-a04e2cf8734f"
      },
      "execution_count": null,
      "outputs": [
        {
          "output_type": "execute_result",
          "data": {
            "text/plain": [
              "3.3333333333333335"
            ]
          },
          "metadata": {},
          "execution_count": 5
        }
      ]
    },
    {
      "cell_type": "markdown",
      "source": [
        "## Author\n",
        "Atharv Yeram"
      ],
      "metadata": {
        "id": "erZx39MuYAes"
      }
    }
  ],
  "metadata": {
    "kernelspec": {
      "display_name": "Python 3.7.4 32-bit",
      "language": "python",
      "name": "python3"
    },
    "language_info": {
      "codemirror_mode": {
        "name": "ipython",
        "version": 3
      },
      "file_extension": ".py",
      "mimetype": "text/x-python",
      "name": "python",
      "nbconvert_exporter": "python",
      "pygments_lexer": "ipython3",
      "version": "3.7.4"
    },
    "vscode": {
      "interpreter": {
        "hash": "8999ca217b2fa3fb8875d9227edfd6c20266cf632b7380cda2ffe3df3689d7c1"
      }
    },
    "colab": {
      "provenance": []
    }
  },
  "nbformat": 4,
  "nbformat_minor": 0
}